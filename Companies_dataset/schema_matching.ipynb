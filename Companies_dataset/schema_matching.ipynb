{
 "cells": [
  {
   "cell_type": "markdown",
   "metadata": {},
   "source": [
    "# SCHEMA ALIGNMENT: REMATCH"
   ]
  },
  {
   "cell_type": "markdown",
   "metadata": {},
   "source": [
    "### (1) PRE-PROCESSING AND READING OF SOURCE DATASETS"
   ]
  },
  {
   "cell_type": "code",
   "execution_count": 1,
   "metadata": {},
   "outputs": [],
   "source": [
    "import os\n",
    "import json\n",
    "import pandas as pd"
   ]
  },
  {
   "cell_type": "code",
   "execution_count": 2,
   "metadata": {},
   "outputs": [],
   "source": [
    "'''\n",
    "A function that takes as input the path to a directory containing several csv files and an integer 'v'\n",
    "and returns a dictionary of dictionaries that stores each field and 'v' sample values for each table\n",
    "'''\n",
    "def read_tables_from_folder(folder, v):\n",
    "    data = {}\n",
    "    file_list = os.listdir(folder)\n",
    "    \n",
    "    for file in file_list:\n",
    "        if file.endswith(\".csv\"):\n",
    "            table_name = os.path.splitext(file)[0]\n",
    "            file_path = os.path.join(folder, file)\n",
    "            \n",
    "            # Read the CSV file using pandas\n",
    "            try:\n",
    "                df = pd.read_csv(file_path)\n",
    "            except pd.errors.EmptyDataError:\n",
    "                print(f\"Error: File '{file}' is empty.\")\n",
    "                continue\n",
    "            \n",
    "            # Extract attributes and 3 non-NaN values for each attribute\n",
    "            attributes = {}\n",
    "            for column in df.columns:\n",
    "                # Skip NaN values and take the first 3 non-NaN values\n",
    "                sample_values = df[column].dropna().head(v).tolist()\n",
    "                attributes[column] = sample_values\n",
    "            \n",
    "            # Add to the main dictionary\n",
    "            data[table_name] = attributes\n",
    "    \n",
    "    return data"
   ]
  },
  {
   "cell_type": "code",
   "execution_count": 3,
   "metadata": {},
   "outputs": [
    {
     "name": "stdout",
     "output_type": "stream",
     "text": [
      "Table: FR-sole24ore\n",
      "  Attribute: Address\n",
      "    Sample values: ['Via Damiano Chiesa 53', 'Piazza IV Novembre 4', 'Piazza Manifattura 1']\n",
      "  Attribute: Country\n",
      "    Sample values: ['Bitritto', 'Milano', 'Rovereto']\n",
      "  Attribute: Category\n",
      "    Sample values: ['Servizi generali', \"Vendita al dettaglio & all'ingrosso\", 'Energia']\n",
      "  Attribute: 7.337\n",
      "    Sample values: [8.375, 13.889, 3.585]\n",
      "  Attribute: Name\n",
      "    Sample values: ['Pegaso Security S.r.l.', 'Euro Top Brand S.r.l.s.', 'Infinityhub S.p.A. Benefit']\n",
      "Table: DeBiGa-globaldata\n",
      "  Attribute: name\n",
      "    Sample values: ['US Ecology Inc', 'Mercury Systems Inc', 'Xiwang Foodstuffs Co Ltd']\n",
      "  Attribute: headquarters\n",
      "    Sample values: ['United States of America', 'United States of America', 'China']\n",
      "  Attribute: number_of_employees\n",
      "    Sample values: ['3,600', '2,386', '1,892']\n",
      "  Attribute: address\n",
      "    Sample values: ['101 S Capitol Blvd Ste 1000, Boise, Idaho, 83702', '50 Minuteman Drive, Andover, Massachusetts, 01810', 'Xiwang Industrial Park, Zouping County, Binzhou, Shandong , 256209']\n",
      "  Attribute: industry\n",
      "    Sample values: ['Environmental and Waste Management Services', 'Aerospace and Defense', 'Consumer Packaged Goods']\n",
      "  Attribute: website\n",
      "    Sample values: ['www.usecology.com', 'www.mrcy.com', 'www.xwsp.cc']\n",
      "  Attribute: market_cap\n",
      "    Sample values: ['$2.7B', '$787.4M', '$2.7B']\n",
      "  Attribute: telephone\n",
      "    Sample values: ['1 208 3318400', '1 978 2561300', '86 543 4868888']\n",
      "  Attribute: revenue\n",
      "    Sample values: ['$988.0M', '$988.2M', '$985.2M']\n",
      "Table: MarScoToc-wikipedia\n",
      "  Attribute: Name\n",
      "    Sample values: ['85C Bakery Cafe', '10.or', '2U (company)']\n",
      "  Attribute: Industry\n",
      "    Sample values: ['Food and Beverage', 'Smartphones', 'Smartphones']\n",
      "  Attribute: headQuarters\n",
      "    Sample values: ['Taipei', 'Taipei', 'Lanham, Maryland']\n",
      "  Attribute: Founded\n",
      "    Sample values: ['2004; 18 years ago (2004)', '2004; 18 years ago (2004)', '2008; 14 years ago (2008)']\n",
      "  Attribute: Area Served\n",
      "    Sample values: ['Worldwide', 'Worldwide', 'Global']\n",
      "Table: silvestri-forbes\n",
      "  Attribute: country\n",
      "    Sample values: ['united states', 'china', 'saudi arabia']\n",
      "  Attribute: market_value_apr_2022\n",
      "    Sample values: ['$741.48 B', '$214.43 B', '$2,292.08 B']\n",
      "  Attribute: name\n",
      "    Sample values: ['berkshire hathaway', 'icbc', 'saudi arabian oil company (saudi aramco)']\n",
      "  Attribute: revenue_2022\n",
      "    Sample values: ['$276.09 B', '$208.13 B', '$400.38 B']\n",
      "Table: silvestri-valueToday\n",
      "  Attribute: ceo\n",
      "    Sample values: ['Bernard Arnault', 'Ulf Mark Schneider', 'Severin Schwan']\n",
      "  Attribute: country\n",
      "    Sample values: ['france', 'switzerland', 'switzerland']\n",
      "  Attribute: market_value_jan_2020\n",
      "    Sample values: ['237.807 Billion USD', '311.592 Billion USD', '279.684 Billion USD']\n",
      "  Attribute: market_value_jan_2021\n",
      "    Sample values: ['313.500 Billion USD', '336.110 Billion USD', '295.780 Billion USD']\n",
      "  Attribute: market_value_jan_2022\n",
      "    Sample values: ['409.480 Billion USD', '372.720 Billion USD', '356.150 Billion USD']\n",
      "  Attribute: name\n",
      "    Sample values: ['lvmh', 'nestle ag', 'roche holding ag']\n",
      "  Attribute: employees_2022\n",
      "    Sample values: ['150,000', '276,000', '100,920']\n",
      "  Attribute: revenue_2022\n",
      "    Sample values: ['70,765 Million USD', '92,575 Million USD', '66,757 Million USD']\n",
      "  Attribute: sector\n",
      "    Sample values: ['fashion and luxury goods', 'consumer defensive', 'healthcare']\n",
      "Table: gren-companiesMarketCap\n",
      "  Attribute: name\n",
      "    Sample values: ['Apple', 'Saudi Aramco', 'Microsoft']\n",
      "  Attribute: market_capitalization_USD\n",
      "    Sample values: [2062000000000.0, 1848000000000.0, 1676000000000.0]\n",
      "  Attribute: price\n",
      "    Sample values: [130.0, 8.0, 225.0]\n",
      "  Attribute: country\n",
      "    Sample values: ['USA', 'S. Arabia', 'USA']\n",
      "Table: slytherin-disfold\n",
      "  Attribute: link\n",
      "    Sample values: ['https://disfold.com/company/great-wall-motor-co-ltd/', 'https://disfold.com/company/colbun-sa/', 'https://disfold.com/company/usinas-siderurgicas-de-minas-gerais-sa/']\n",
      "  Attribute: name\n",
      "    Sample values: ['Great Wall Motor Co Ltd', 'Colbún SA', 'Usinas Siderúrgicas de Minas Gerais SA']\n",
      "  Attribute: headquarters\n",
      "    Sample values: ['Baoding, China', 'Santiago, Chile', 'Belo Horizonte, Brazil']\n",
      "  Attribute: employees\n",
      "    Sample values: ['63,174', '1,193', 'Not found']\n",
      "  Attribute: ceo\n",
      "    Sample values: ['Not found', 'Mr. Thomas Lippold Keller', 'Mr. Sergio Leite de Andrade']\n",
      "  Attribute: market_cap\n",
      "    Sample values: ['CN¥203.69 Billion', 'CL$1.098 Trillion', '€3.54 Billion']\n",
      "Table: FR-ft\n",
      "  Attribute: Rank\n",
      "    Sample values: [1, 2, 3]\n",
      "  Attribute: Name\n",
      "    Sample values: ['Swappie', 'Kilo Health', 'OCI']\n",
      "  Attribute: in 2021 ranking\n",
      "    Sample values: ['No', 'No', 'No']\n",
      "  Attribute: in 2020 ranking\n",
      "    Sample values: ['No', 'No', 'No']\n",
      "  Attribute: Country\n",
      "    Sample values: ['Finland', 'Lithuania', 'UK']\n",
      "  Attribute: Sector\n",
      "    Sample values: ['Technology', 'Health', 'Financial Services']\n",
      "  Attribute: Absolute Growth Rate %\n",
      "    Sample values: ['19,152.82', '16,541.73', '13,133.13']\n",
      "  Attribute: Compound Annual Growth Rate (CAGR) %\n",
      "    Sample values: [477.43, 450.05, 409.59]\n",
      "  Attribute: Revenue 2020 (€)\n",
      "    Sample values: ['97,611,814', '57,318,766', '568,322,073']\n",
      "  Attribute: Revenue 2017 (€)\n",
      "    Sample values: ['507,000', '344,428', '4,325,512']\n",
      "  Attribute: Number of employees 2020\n",
      "    Sample values: [218.0, 177.0, 32.0]\n",
      "  Attribute: Number of employees 2017\n",
      "    Sample values: ['1', '10', '4']\n",
      "  Attribute: Founding Year\n",
      "    Sample values: [2016, 2013, 2012]\n",
      "Table: GioPonSpiz-companiesMarketCap\n",
      "  Attribute: name\n",
      "    Sample values: ['Apple', 'Saudi Aramco', 'Microsoft']\n",
      "  Attribute: codice\n",
      "    Sample values: ['AAPL', '2222.SR', 'MSFT']\n",
      "  Attribute: pricecap\n",
      "    Sample values: ['$2.143 T', '$1.878 T', '$1.783 T']\n",
      "  Attribute: price\n",
      "    Sample values: ['$134.76', '$8.54', '$239.23']\n",
      "  Attribute: country\n",
      "    Sample values: ['USA', 'S. Arabia', 'USA']\n",
      "Table: avengers-hitHorizons\n",
      "  Attribute: id\n",
      "    Sample values: ['d60823f20d864692b517a8ad6c1418ed', 'c7856532ca8b4dd286a9602c77221035', 'e8e04ae3e4594e3b836e62077155b19a']\n",
      "  Attribute: name\n",
      "    Sample values: ['Enel Spa', 'Esselunga Spa', 'Superit Srl']\n",
      "  Attribute: address\n",
      "    Sample values: ['VIALE REGINA MARGHERITA 137, ROMA, 00198, ROMA, ITALY', 'VIA GIAMBOLOGNA 1, PIOLTELLO, 20096, MILANO, ITALY', 'VIA VITTOR PISANI 20, MILANO, 20124, MILANO, ITALY']\n",
      "  Attribute: nation\n",
      "    Sample values: ['IT00934061003', 'IT04916380159', 'IT11068950960']\n",
      "  Attribute: hhid\n",
      "    Sample values: ['H-IT0031426662', 'H-IT0068388950', 'H-IT0289899385']\n",
      "  Attribute: industry\n",
      "    Sample values: ['Finance, Insurance, and Real Estate', 'Retail Trade', 'Finance, Insurance, and Real Estate']\n",
      "  Attribute: sic_code\n",
      "    Sample values: ['Holding company (6719)', 'Ret mail-order house (5961)', 'Holding company (6719)']\n",
      "  Attribute: type\n",
      "    Sample values: ['Corporation', 'Corporation', 'Corporation']\n",
      "  Attribute: est_of_ownership\n",
      "    Sample values: [1962, 1957, 2019]\n",
      "Table: MalPatSaj-disfold\n",
      "  Attribute: Name\n",
      "    Sample values: ['Apple Inc.', 'Microsoft Corporation', 'Saudi Arabian Oil Company']\n",
      "  Attribute: MarketCap\n",
      "    Sample values: ['$2.825 T', '$2.328 T', '$2.297 T']\n",
      "  Attribute: Stock\n",
      "    Sample values: ['AAPL', 'MSFT', '2222']\n",
      "  Attribute: Country\n",
      "    Sample values: ['United States', 'United States', 'Saudi Arabia']\n",
      "  Attribute: Sector\n",
      "    Sample values: ['Technology', 'Technology', 'Energy']\n",
      "  Attribute: Industry\n",
      "    Sample values: ['Consumer Electronics', 'Software—Infrastructure', 'Oil & Gas Integrated']\n",
      "Table: silvestri-disfold\n",
      "  Attribute: name\n",
      "    Sample values: ['Apple Inc.', 'Microsoft Corporation', 'Saudi Arabian Oil Company']\n",
      "  Attribute: country\n",
      "    Sample values: ['united states', 'united states', 'saudi arabia']\n",
      "  Attribute: market_value_apr_2022\n",
      "    Sample values: ['$2.825 T', '$2.328 T', '$2.297 T']\n",
      "  Attribute: sector\n",
      "    Sample values: ['technology', 'technology', 'energy']\n",
      "  Attribute: stock\n",
      "    Sample values: ['AAPL', 'MSFT', '2222']\n",
      "Table: MalPatSaj-forbes\n",
      "  Attribute: Name\n",
      "    Sample values: ['Berkshire Hathaway', 'ICBC', 'Saudi Arabian Oil Company (Saudi Aramco)']\n",
      "  Attribute: Country\n",
      "    Sample values: ['United States', 'China', 'Saudi Arabia']\n",
      "  Attribute: Sales\n",
      "    Sample values: ['$276.09 B', '$208.13 B', '$400.38 B']\n",
      "  Attribute: Profit\n",
      "    Sample values: ['$89.8 B', '$54.03 B', '$105.36 B']\n",
      "  Attribute: Assets\n",
      "    Sample values: ['$958.78 B', '$5,518.51 B', '$576.04 B']\n",
      "  Attribute: Market Value\n",
      "    Sample values: ['$741.48 B', '$214.43 B', '$2,292.08 B']\n",
      "Table: silvestri-ft\n",
      "  Attribute: country\n",
      "    Sample values: ['finland', 'lithuania', 'uk']\n",
      "  Attribute: employees_2017\n",
      "    Sample values: ['1', '10', '4']\n",
      "  Attribute: employees_2020\n",
      "    Sample values: [218.0, 177.0, 32.0]\n",
      "  Attribute: founding_year\n",
      "    Sample values: [2016, 2013, 2012]\n",
      "  Attribute: name\n",
      "    Sample values: ['swappie', 'kilo health', 'oci']\n",
      "  Attribute: revenue_2017\n",
      "    Sample values: ['507,000', '344,428', '4,325,512']\n",
      "  Attribute: revenue_2020\n",
      "    Sample values: ['97,611,814', '57,318,766', '568,322,073']\n",
      "  Attribute: sector\n",
      "    Sample values: ['technology', 'health', 'financial services']\n",
      "Table: slytherin-valueToday\n",
      "  Attribute: link\n",
      "    Sample values: ['https://www.value.today/company/apple', 'https://www.value.today/company/taiwan-semiconductor-manufacturing-company', 'https://www.value.today/company/microsoft-corporation']\n",
      "  Attribute: rank\n",
      "    Sample values: [1, 10, 2]\n",
      "  Attribute: name\n",
      "    Sample values: ['APPLE', 'TAIWAN SEMICONDUCTOR MANUFACTURING COMPANY (TSMC)', 'MICROSOFT CORPORATION']\n",
      "  Attribute: ceo\n",
      "    Sample values: ['Tim Cook', 'Mark Liu', 'Satya Nadella']\n",
      "  Attribute: founded\n",
      "    Sample values: ['1976', '1987', '1975']\n",
      "  Attribute: revenue\n",
      "    Sample values: ['365,820 Million USD', '55,306 Million USD', '198,270 Million USD']\n",
      "  Attribute: country\n",
      "    Sample values: ['USA', 'Taiwan', 'USA']\n",
      "  Attribute: industry\n",
      "    Sample values: ['Technology, Mobiles & Accessories, Electronics, Consumer Electronics, Computers Hardware, Software and IT, Music, Tablets, Technology Hardware and Instruments, Retail, Artificial Intelligence, Laptops, Software Products', 'Technology, Semiconductors, Electronics, Technology Hardware and Instruments, Processors / Chips', 'Technology, Software and IT, Laptops, Video Games / Mobile Games / Tech Games / Casino Games, Gaming, Internet or Mobile App Based Business, Computers Hardware, Tablets, Cloud Services, Artificial Intelligence, Internet of Things, Media, Electronics, Consumer Electronics, Advertising']\n"
     ]
    }
   ],
   "source": [
    "folder_with_csv = \"./sources\"\n",
    "result = read_tables_from_folder(folder_with_csv, 3)\n",
    "\n",
    "# Print the result\n",
    "for table, attributes in result.items():\n",
    "    print(f\"Table: {table}\")\n",
    "    for attribute, values in attributes.items():\n",
    "        print(f\"  Attribute: {attribute}\")\n",
    "        print(f\"    Sample values: {values}\")"
   ]
  },
  {
   "cell_type": "code",
   "execution_count": 45,
   "metadata": {},
   "outputs": [],
   "source": [
    "'''\n",
    "This function stores a dictionary on a json file:\n",
    "store the dictionary returned by the read_tables_from_folder function \n",
    "'''\n",
    "def save_attributes_to_json(attributes, output_file):\n",
    "    # Writes the attribute dictionary to a JSON file\n",
    "    with open(output_file, 'w', encoding='utf-8') as file:\n",
    "        json.dump(attributes, file, ensure_ascii=False, indent=4)\n"
   ]
  },
  {
   "cell_type": "code",
   "execution_count": 22,
   "metadata": {},
   "outputs": [],
   "source": [
    "save_attributes_to_json(result, \"attributes_per_source.json\")"
   ]
  },
  {
   "cell_type": "markdown",
   "metadata": {},
   "source": [
    "### (2) GENERATION OF SOURCE TABLE ATTRIBUTE DESCRIPTIONS VIA LLM"
   ]
  },
  {
   "cell_type": "code",
   "execution_count": 19,
   "metadata": {},
   "outputs": [],
   "source": [
    "from langchain_core.prompts import ChatPromptTemplate\n",
    "from langchain_groq import ChatGroq\n",
    "from groq import Groq"
   ]
  },
  {
   "cell_type": "code",
   "execution_count": 20,
   "metadata": {},
   "outputs": [],
   "source": [
    "# !! export GROQ_API_KEY=\"your_key\"\n",
    "api_key = os.getenv(\"GROQ_API_KEY\")\n",
    "chat = ChatGroq(temperature=0, groq_api_key=api_key, model_name=\"llama3-8b-8192\")"
   ]
  },
  {
   "cell_type": "code",
   "execution_count": 29,
   "metadata": {},
   "outputs": [],
   "source": [
    "'''\n",
    "This function asks llm on the basis of the name and a few example values of each attribute to\n",
    "generate a short description\n",
    "'''\n",
    "def generate_descriptions():\n",
    "    response_dict = {}\n",
    "    for source, attributes in result.items():\n",
    "        attributes_string = str(attributes)\n",
    "        # Template \n",
    "        template = \"\"\"You are an assistant who must help me to analyse the fields of a table.\n",
    "            Here are the fields of the table each with 3 example values: {table}\n",
    "            Based only on the values of each field, you have to give us a description in natural language of up to 7 words for each field. \n",
    "            All I want to output is a list of tuples Python like this:\n",
    "            [(field title1,description1),\n",
    "            (field title2,description2)]. \n",
    "            You have to return only the list of tuples without any messages.\n",
    "            If one field is empty, not return the description for this field\"\"\"\n",
    "        \n",
    "        # Create prompt for the llm using the template\n",
    "        prompt = ChatPromptTemplate.from_messages([(\"human\", template)])\n",
    "        chain = prompt | chat\n",
    "        response = chain.invoke({\"table\": attributes_string})\n",
    "        response_dict[source] = response.content\n",
    "    return response_dict"
   ]
  },
  {
   "cell_type": "code",
   "execution_count": 30,
   "metadata": {},
   "outputs": [
    {
     "data": {
      "text/plain": [
       "{'avengers-hitHorizons': \"I'd be happy to help you with that. After analyzing the fields, here is the list of tuples with descriptions:\\n\\n[('id', 'Unique identifier for each record'), \\n('name', 'Company name'), \\n('address', 'Physical location of the company'), \\n('nation', 'Country code'), \\n('hhid', 'Unique identifier for household'), \\n('industry', 'Type of business or sector'), \\n('sic_code', 'Standard Industrial Classification code'), \\n('type', 'Type of business entity'), \\n('est_of_ownership', 'Year of establishment')]\",\n",
       " 'DeBiGa-globaldata': \"I'd be happy to help you with that. Here is the list of tuples with descriptions for each field:\\n\\n[('name', 'Company names listed'), \\n('headquarters', 'Countries of origin listed'), \\n('number_of_employees', 'Employee counts listed'), \\n('address', 'Company addresses listed'), \\n('industry', 'Industry categories listed'), \\n('website', 'Company websites listed'), \\n('market_cap', 'Market capitalization values listed'), \\n('telephone', 'Phone numbers listed'), \\n('revenue', 'Revenue values listed')]\",\n",
       " 'FR-ft': \"I'd be happy to help you with that. After analyzing the fields, here is the list of tuples with descriptions:\\n\\n[('Rank', 'Sequential ordering of entities'),\\n ('Name', 'Company names'),\\n ('in 2021 ranking', 'Presence in 2021 ranking'),\\n ('in 2020 ranking', 'Presence in 2020 ranking'),\\n ('Country', 'Geographic locations'),\\n ('Sector', 'Industry categories'),\\n ('Absolute Growth Rate %', 'Percentage growth rates'),\\n ('Compound Annual Growth Rate (CAGR) %', 'Annual growth rates'),\\n ('Revenue 2020 (€)', 'Financial data for 2020'),\\n ('Revenue 2017 (€)', 'Financial data for 2017'),\\n ('Number of employees 2020', 'Employee counts for 2020'),\\n ('Number of employees 2017', 'Employee counts for 2017'),\\n ('Founding Year', 'Year of company establishment')]\",\n",
       " 'FR-sole24ore': \"I'd be happy to help you with that. After analyzing the fields, here is the list of tuples with descriptions:\\n\\n[('Address', 'Street addresses'), \\n('Country', 'Country names'), \\n('Category', 'Business categories'), \\n('7.337', 'Unknown'), \\n('Name', 'Company names')]\",\n",
       " 'GioPonSpiz-companiesMarketCap': \"I'd be happy to help you with that. After analyzing the fields, here is the list of tuples with descriptions:\\n\\n[('name', 'Company names'), \\n ('codice', 'Stock ticker symbols'), \\n ('pricecap', 'Price caps in trillions'), \\n ('price', 'Stock prices in USD'), \\n ('country', 'Country of origin')]\\n\\nLet me know if you need any further assistance!\",\n",
       " 'gren-companiesMarketCap': \"I'd be happy to help you with that. Here is the list of tuples with descriptions for each field:\\n\\n[('name', 'List of company names'),\\n ('market_capitalization_USD', 'Large sums of money'),\\n ('price', 'Stock prices'),\\n ('country', 'Country of origin')]\",\n",
       " 'MalPatSaj-disfold': \"I'd be happy to help you with that. After analyzing the fields, here is the list of tuples with descriptions:\\n\\n[('Name', 'List of company names'), \\n('MarketCap', 'Large market capitalization values'), \\n('Stock', 'List of stock ticker symbols'), \\n('Country', 'List of country names'), \\n('Sector', 'List of industry sectors'), \\n('Industry', 'List of specific industries')]\\n\\nLet me know if you need anything else!\",\n",
       " 'MalPatSaj-forbes': \"I'd be happy to help you with that. After analyzing the fields, here is the list of tuples with descriptions:\\n\\n[('Name', 'Large multinational companies'), \\n('Country', 'Major economies'), \\n('Sales', 'Trillions of dollars'), \\n('Profit', 'Billions of dollars'), \\n('Assets', 'Trillions of dollars'), \\n('Market Value', 'Trillions of dollars')]\",\n",
       " 'MarScoToc-wikipedia': \"I'd be happy to help you with that. Here is the list of tuples with descriptions for each field:\\n\\n[('Name', 'Company names'), \\n('Industry', 'Types of businesses'), \\n('headQuarters', 'Locations of headquarters'), \\n('Founded', 'Years companies were founded'), \\n('Area Served', 'Geographic regions served')]\",\n",
       " 'silvestri-disfold': \"I'd be happy to help you with that. After analyzing the fields, here is the list of tuples with descriptions:\\n\\n[('name', 'List of company names'), \\n('country', 'List of country names'), \\n('market_value_apr_2022', 'Market values in trillions'), \\n('sector', 'List of industry sectors'), \\n('stock', 'List of stock ticker symbols')]\\n\\nLet me know if you need any further assistance!\",\n",
       " 'silvestri-forbes': \"I'd be happy to help you with that. After analyzing the fields, here is the list of tuples with descriptions:\\n\\n[('country', 'List of country names'), \\n('market_value_apr_2022', 'Large dollar amounts'), \\n('name', 'Company names'), \\n('revenue_2022', 'Large dollar amounts')]\\n\\nLet me know if you need anything else!\",\n",
       " 'silvestri-ft': \"I'd be happy to help you with that. After analyzing the fields, here is the list of tuples with descriptions:\\n\\n[('country', 'List of country names'),\\n ('employees_2017', 'Number of employees in 2017'),\\n ('employees_2020', 'Number of employees in 2020'),\\n ('founding_year', 'Year of company founding'),\\n ('name', 'Company name'),\\n ('revenue_2017', 'Revenue in 2017'),\\n ('revenue_2020', 'Revenue in 2020'),\\n ('sector', 'Industry sector')]\",\n",
       " 'silvestri-valueToday': \"I'd be happy to help you with that. After analyzing the fields, here is the list of tuples with descriptions:\\n\\n[('ceo', 'List of company CEOs'), \\n('country', 'List of countries'), \\n('market_value_jan_2020', 'Market value in January 2020'), \\n('market_value_jan_2021', 'Market value in January 2021'), \\n('market_value_jan_2022', 'Market value in January 2022'), \\n('name', 'Company names'), \\n('employees_2022', 'Number of employees in 2022'), \\n('revenue_2022', 'Revenue in 2022'), \\n('sector', 'Industry sectors')]\\n\\nLet me know if you need any further assistance!\",\n",
       " 'slytherin-disfold': \"I'd be happy to help you with that. After analyzing the fields, here is the list of tuples with descriptions:\\n\\n[('link', 'Company website URLs'), \\n('name', 'Company names'), \\n('headquarters', 'City locations'), \\n('employees', 'Number of employees'), \\n('ceo', 'Chief Executive Officers'), \\n('market_cap', 'Market capitalization values')]\\n\\nLet me know if you need any further assistance!\",\n",
       " 'slytherin-valueToday': \"I'd be happy to help you with that. After analyzing the fields, here is the list of tuples with descriptions:\\n\\n[('link', 'Company website URLs'), \\n('rank', 'Company ranking values'), \\n('name', 'Company names'), \\n('ceo', 'Chief Executive Officer names'), \\n('founded', 'Company founding years'), \\n('revenue', 'Company revenue values'), \\n('country', 'Company country of origin'), \\n('industry', 'Company industry categories')]\\n\\nLet me know if you need any further assistance!\"}"
      ]
     },
     "execution_count": 30,
     "metadata": {},
     "output_type": "execute_result"
    }
   ],
   "source": [
    "attributes_descriptions = generate_descriptions()\n",
    "print(attributes_descriptions)"
   ]
  },
  {
   "cell_type": "code",
   "execution_count": 32,
   "metadata": {},
   "outputs": [],
   "source": [
    "# Store the dictionary returned by the generate_descriptions function in a json file\n",
    "save_attributes_to_json(attributes_descriptions, \"attributes_description.json\")"
   ]
  },
  {
   "cell_type": "markdown",
   "metadata": {},
   "source": [
    "### EMBEDDINGS ATTRIBUTES"
   ]
  },
  {
   "cell_type": "code",
   "execution_count": 2,
   "metadata": {},
   "outputs": [],
   "source": [
    "import ast\n",
    "from transformers import AutoTokenizer, AutoModel\n",
    "import torch\n",
    "import numpy"
   ]
  },
  {
   "cell_type": "code",
   "execution_count": 19,
   "metadata": {},
   "outputs": [],
   "source": [
    "# Load the json file into a dictionary\n",
    "table_attributes_description = {}\n",
    "with open(\"attributes_description.json\", 'r', encoding='utf-8') as file:\n",
    "        table_attributes_description = json.load(file)"
   ]
  },
  {
   "cell_type": "code",
   "execution_count": 20,
   "metadata": {},
   "outputs": [],
   "source": [
    "# Create a dict of dicts with all the attributes associated with each table with the relative description\n",
    "for table in table_attributes_description.keys():\n",
    "    tuples_list = ast.literal_eval(table_attributes_description[table])\n",
    "    table_attributes_description[table] = tuples_list\n"
   ]
  },
  {
   "cell_type": "code",
   "execution_count": 21,
   "metadata": {},
   "outputs": [
    {
     "data": {
      "text/plain": [
       "{'mediated_schema': [('name', 'Company name'),\n",
       "  ('location', 'location of the company'),\n",
       "  ('marketCap', 'Large market capitalization values'),\n",
       "  ('sharePrice', 'share price of a company'),\n",
       "  ('category', 'Industry sector categories'),\n",
       "  ('foundationYear', 'Year of company founding'),\n",
       "  ('employees', 'Number of employees'),\n",
       "  ('telephone', 'Phone numbers'),\n",
       "  ('ceo', 'List of Chief Executive Officers'),\n",
       "  ('website', 'Company website URLs')]}"
      ]
     },
     "execution_count": 21,
     "metadata": {},
     "output_type": "execute_result"
    }
   ],
   "source": [
    "table_attributes_description"
   ]
  },
  {
   "cell_type": "code",
   "execution_count": 7,
   "metadata": {},
   "outputs": [],
   "source": [
    "# Initialize the embeddings model\n",
    "tokenizer = AutoTokenizer.from_pretrained(\"sentence-transformers/paraphrase-MiniLM-L6-v2\")\n",
    "model = AutoModel.from_pretrained(\"sentence-transformers/paraphrase-MiniLM-L6-v2\")"
   ]
  },
  {
   "cell_type": "code",
   "execution_count": 8,
   "metadata": {},
   "outputs": [],
   "source": [
    "'''\n",
    "This function takes a string and returns the associated vector calculated by the model\n",
    "'''\n",
    "def embed_sentence(sentence):\n",
    "        # Embedding of the sentence\n",
    "        inputs = tokenizer(sentence, return_tensors='pt', truncation=True, padding=True, max_length=128)\n",
    "        with torch.no_grad():\n",
    "            embeddings = model(**inputs).last_hidden_state.mean(dim=1)\n",
    "        return embeddings.squeeze().numpy()"
   ]
  },
  {
   "cell_type": "code",
   "execution_count": 22,
   "metadata": {},
   "outputs": [],
   "source": [
    "def generate_jsonfile_with_embeddings(file_path, table_attributes_description):\n",
    "\n",
    "    os.makedirs(file_path, exist_ok=True)\n",
    "    for table, attributes in table_attributes_description.items():\n",
    "        for (attribute, description) in attributes:\n",
    "            # For each attribute our related json file will have these fields\n",
    "            jsonObject = {\n",
    "                \"table\": table,\n",
    "                \"nameAttribute\": attribute,\n",
    "                \"descriptionAttribute\": description\n",
    "            }\n",
    "            \n",
    "            attribute_description_string = f\"{attribute} {description}\"\n",
    "\n",
    "            # Embedding attribute\n",
    "            attribute_embedding = embed_sentence(attribute_description_string)\n",
    "            attribute_embedding_list = attribute_embedding.tolist()\n",
    "            jsonObject[\"embeddingAttribute\"] = attribute_embedding_list\n",
    "\n",
    "            # Generate the json file\n",
    "            file_name = f\"{table}_{attribute}.json\"\n",
    "            file_name = file_name.replace(\" \", \"_\")\n",
    "            file_name = file_name.replace(\"/\", \"_\")\n",
    "            full_path = os.path.join(file_path, file_name)\n",
    "\n",
    "            # Save jsonObject to a json file\n",
    "            with open(full_path, 'w', encoding='utf-8') as json_file:\n",
    "                json.dump(jsonObject, json_file, ensure_ascii=False, indent=4)\n",
    "            "
   ]
  },
  {
   "cell_type": "code",
   "execution_count": null,
   "metadata": {},
   "outputs": [],
   "source": [
    "# For attributes of sorces\n",
    "target_attributes_description= {\n",
    "    \"mediated_schema\": table_attributes_description[\"mediated_schema\"]\n",
    "}\n",
    "del table_attributes_description[\"mediated_schema\"]\n",
    "file_path = \"./attributes_documents\"\n",
    "generate_jsonfile_with_embeddings(file_path, table_attributes_description)"
   ]
  },
  {
   "cell_type": "code",
   "execution_count": null,
   "metadata": {},
   "outputs": [],
   "source": [
    "# For attributes of mediated_schema\n",
    "file_path = \"./attributes_target_documents\"\n",
    "generate_jsonfile_with_embeddings(file_path, target_attributes_description)"
   ]
  },
  {
   "cell_type": "markdown",
   "metadata": {},
   "source": [
    "### (3) RANK TOP j MEDIATED_SCHEMA ATTRIBUTES FOR EACH SOURCES ATTRIBUTES"
   ]
  },
  {
   "cell_type": "code",
   "execution_count": 2,
   "metadata": {},
   "outputs": [],
   "source": [
    "import json\n",
    "import os\n",
    "import numpy as np\n",
    "from numpy.linalg import norm"
   ]
  },
  {
   "cell_type": "code",
   "execution_count": 4,
   "metadata": {},
   "outputs": [],
   "source": [
    "''' Cosine Similarity function'''\n",
    "def cosine_similarity(vec1, vec2):\n",
    "    return np.dot(vec1, vec2) / (norm(vec1) * norm(vec2))"
   ]
  },
  {
   "cell_type": "code",
   "execution_count": null,
   "metadata": {},
   "outputs": [],
   "source": [
    "''' \n",
    "This function takes as input: a sources attribute in json format, an integer j, a threshold and \n",
    "the path to the folder where the json files relating to the mediated_schema attributes are located.\n",
    "It returns the name, description and similarity value of (at most) j documents (attributes) most \n",
    "similar to the input sources attribute whose similarity is greater than the threshold\n",
    "'''\n",
    "def rank_top_j_attributes(attribute_document_json, j, threshold_similarity, mediated_schema_dir):\n",
    "    \n",
    "    embedding_value = attribute_document_json[\"embeddingAttribute\"]\n",
    "\n",
    "    similarities = []\n",
    "\n",
    "    for filename in os.listdir(mediated_schema_dir):\n",
    "        if filename.endswith(\".json\"):\n",
    "            file_path = os.path.join(mediated_schema_dir, filename)\n",
    "            with open(file_path) as file:\n",
    "                target_attribute_document = json.load(file)\n",
    "            target_embedding_value = target_attribute_document[\"embeddingAttribute\"]\n",
    "            similarity = cosine_similarity(embedding_value, target_embedding_value)\n",
    "            if similarity > threshold_similarity:\n",
    "                similarities.append((similarity, target_attribute_document[\"nameAttribute\"], target_attribute_document[\"descriptionAttribute\"]))\n",
    "    \n",
    "    similarities.sort(reverse=True, key=lambda x: x[0])\n",
    "    top_k_similarities = similarities[:j]\n",
    "\n",
    "    return [(name, description, similarity) for similarity, name, description in top_k_similarities]  \n"
   ]
  },
  {
   "cell_type": "markdown",
   "metadata": {},
   "source": [
    "### (4) FINAL SCHEMA-MATCHING WITH LLM"
   ]
  },
  {
   "cell_type": "code",
   "execution_count": 6,
   "metadata": {},
   "outputs": [],
   "source": [
    "from collections import defaultdict"
   ]
  },
  {
   "cell_type": "code",
   "execution_count": 42,
   "metadata": {},
   "outputs": [],
   "source": [
    "'''\n",
    "This function takes as input: the path to the folder where the json files relating to \n",
    "the mediated_schema attributes are located, the path to the folder where the json files\n",
    "relating to the sources attributes are located, an integer j and a threshold.\n",
    "For each source attribute, it calls the rank_top_j_attributes function and for each\n",
    "source table, it invokes the llm to choose the best matching of the top j.\n",
    "It the function returns a dictionary of dictionaries where for each attribute of each\n",
    "source table there is an associated mediated_schema field with which it matches or \n",
    "'no matching' if it does not match any mediated_schema field\n",
    "'''\n",
    "def re_match(mediated_schema_dir, attributes_documents_dir, j, threshold_similarity):\n",
    "\n",
    "    attribute_top_k_similar = defaultdict(dict)\n",
    "\n",
    "    for filename in os.listdir(attributes_documents_dir):\n",
    "        if filename.endswith(\".json\"):\n",
    "            file_path = os.path.join(attributes_documents_dir, filename)\n",
    "            with open(file_path) as file:\n",
    "                attribute_document_json = json.load(file)\n",
    "\n",
    "            table = attribute_document_json[\"table\"]\n",
    "            name = attribute_document_json[\"nameAttribute\"]\n",
    "            attribute_top_k_similar[table][name] = rank_top_j_attributes(attribute_document_json, j, threshold_similarity, mediated_schema_dir)\n",
    "    \n",
    "    attribute_matching_result = {}\n",
    "    for table, attributes_dict in attribute_top_k_similar.items():\n",
    "        attributes_string = str(attributes_dict)\n",
    "        # Template \n",
    "        template = \"\"\"You are an assistant who has to help us with a fields matching problem. Below is a table with all its \n",
    "            associated fields and the best fields of the target table on which it can do matching with a description and \n",
    "            the similarity values between the fields:\n",
    "            {table}\n",
    "            Using this information tell me for each field in the table: whether or not the field matches one of the proposed \n",
    "            fields and if so which one. \n",
    "            (Many fields do not have a matching in the target schema, so in that case you have to tell me that \n",
    "            the field does not have a target field with which it matches).\n",
    "            You must return the final result in only the following way\n",
    "            [\n",
    "            field_name1: field_name_target_matching\n",
    "            field_name2: no matching\n",
    "            field_name3: field_name_target_matching\n",
    "            field_name4: no matching\n",
    "            ...\n",
    "            ]\n",
    "\n",
    "            An example:\n",
    "            [\n",
    "            name: name\n",
    "            id: no matching\n",
    "            birthday year: no matching\n",
    "            address: location\n",
    "            ...\n",
    "            ]\n",
    "        \"\"\"\n",
    "        \n",
    "        # Create prompt for the llm using the template\n",
    "        prompt = ChatPromptTemplate.from_messages([(\"human\", template)])\n",
    "        chain = prompt | chat\n",
    "        response = chain.invoke({\"table\": attributes_string})\n",
    "        attribute_matching_result[table] = response.content\n",
    "        \n",
    "    return attribute_matching_result\n"
   ]
  },
  {
   "cell_type": "code",
   "execution_count": 38,
   "metadata": {},
   "outputs": [],
   "source": [
    "mediated_schema_dir = \"./attributes_target_documents\"\n",
    "attributes_documents_dir = \"./attributes_documents\"\n",
    "j = 3\n",
    "threshold_similarity = 0.5\n",
    "result = re_match(mediated_schema_dir, attributes_documents_dir, j, threshold_similarity)"
   ]
  },
  {
   "cell_type": "code",
   "execution_count": 46,
   "metadata": {},
   "outputs": [],
   "source": [
    "# Save the final result in a json file\n",
    "save_attributes_to_json(result, \"final_schema_matching.json\")"
   ]
  },
  {
   "cell_type": "markdown",
   "metadata": {},
   "source": [
    "### Evaluation"
   ]
  },
  {
   "cell_type": "code",
   "execution_count": 10,
   "metadata": {},
   "outputs": [],
   "source": [
    "import matplotlib.pyplot as plt"
   ]
  },
  {
   "cell_type": "code",
   "execution_count": 2,
   "metadata": {},
   "outputs": [],
   "source": [
    "true_positive = 59   # correct attribute match\n",
    "true_negative = 26   # correct attribute no match\n",
    "false_positive = 4   # uncorrect attribute match\n",
    "false_negative = 12  # uncorrect attribute no match"
   ]
  },
  {
   "cell_type": "code",
   "execution_count": 3,
   "metadata": {},
   "outputs": [],
   "source": [
    "def get_precision(true_positive, false_positive):\n",
    "    return true_positive/(true_positive + false_positive)"
   ]
  },
  {
   "cell_type": "code",
   "execution_count": 4,
   "metadata": {},
   "outputs": [],
   "source": [
    "def get_recall(true_positive, false_negative):\n",
    "    return true_positive/(true_positive + false_negative)"
   ]
  },
  {
   "cell_type": "code",
   "execution_count": 5,
   "metadata": {},
   "outputs": [],
   "source": [
    "def get_f1_score(precision, recall):\n",
    "    return 2 * (precision * recall)/(precision + recall)"
   ]
  },
  {
   "cell_type": "code",
   "execution_count": 6,
   "metadata": {},
   "outputs": [
    {
     "name": "stdout",
     "output_type": "stream",
     "text": [
      "Precision: \t0.9365079365079365\n",
      "Recall: \t0.8309859154929577\n",
      "F1 Score: \t0.8805970149253731\n"
     ]
    }
   ],
   "source": [
    "precision = get_precision(true_positive, false_positive)\n",
    "recall = get_recall(true_positive, false_negative)\n",
    "f1_score = get_f1_score(precision, recall)\n",
    "print(f\"Precision: \\t{precision}\")\n",
    "print(f\"Recall: \\t{recall}\")\n",
    "print(f\"F1 Score: \\t{f1_score}\")"
   ]
  },
  {
   "cell_type": "code",
   "execution_count": null,
   "metadata": {},
   "outputs": [],
   "source": [
    "''' This function generates a metrics chart'''\n",
    "def generate_chart(precision, recall, f1_score):\n",
    "    metrics = ['Precision', 'Recall', 'F1 Score']\n",
    "    values = [precision, recall, f1_score]\n",
    "\n",
    "    # Bar graph\n",
    "    plt.figure(figsize=(6, 6))\n",
    "    plt.bar(metrics, values, color=['blue', 'green', 'red'])\n",
    "\n",
    "    # Adding values above the bars\n",
    "    for i, v in enumerate(values):\n",
    "        plt.text(i, v + 0.01, f\"{v:.2f}\", ha='center', fontweight='bold')\n",
    "\n",
    "    # Adding Title and Labels to Axes\n",
    "    plt.title('Evaluation metrics')\n",
    "    plt.xlabel('Metrics')\n",
    "    plt.ylabel('Value')\n",
    "\n",
    "    plt.ylim(0, 1)\n",
    "    plt.show()"
   ]
  },
  {
   "cell_type": "code",
   "execution_count": 13,
   "metadata": {},
   "outputs": [
    {
     "data": {
      "image/png": "[encoded data removed]",
      "text/plain": [
       "<Figure size 600x600 with 1 Axes>"
      ]
     },
     "metadata": {},
     "output_type": "display_data"
    }
   ],
   "source": [
    "generate_chart(precision, recall, f1_score)"
   ]
  }
 ],
 "metadata": {
  "kernelspec": {
   "display_name": "base",
   "language": "python",
   "name": "python3"
  },
  "language_info": {
   "codemirror_mode": {
    "name": "ipython",
    "version": 3
   },
   "file_extension": ".py",
   "mimetype": "text/x-python",
   "name": "python",
   "nbconvert_exporter": "python",
   "pygments_lexer": "ipython3",
   "version": "3.12.3"
  }
 },
 "nbformat": 4,
 "nbformat_minor": 2
}
