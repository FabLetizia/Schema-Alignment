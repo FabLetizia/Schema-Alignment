{
 "cells": [
  {
   "cell_type": "code",
   "execution_count": 6,
   "metadata": {},
   "outputs": [],
   "source": [
    "import pandas as pd\n",
    "import json\n",
    "import matplotlib.pyplot as plt\n",
    "from collections import defaultdict"
   ]
  },
  {
   "cell_type": "code",
   "execution_count": 8,
   "metadata": {},
   "outputs": [],
   "source": [
    "schema_matching_labelled_df = pd.read_csv(\"monitor_schema_matching_labelled_data.csv\", sep=\";\")"
   ]
  },
  {
   "cell_type": "code",
   "execution_count": 9,
   "metadata": {},
   "outputs": [
    {
     "data": {
      "text/html": [
       "<div>\n",
       "<style scoped>\n",
       "    .dataframe tbody tr th:only-of-type {\n",
       "        vertical-align: middle;\n",
       "    }\n",
       "\n",
       "    .dataframe tbody tr th {\n",
       "        vertical-align: top;\n",
       "    }\n",
       "\n",
       "    .dataframe thead th {\n",
       "        text-align: right;\n",
       "    }\n",
       "</style>\n",
       "<table border=\"1\" class=\"dataframe\">\n",
       "  <thead>\n",
       "    <tr style=\"text-align: right;\">\n",
       "      <th></th>\n",
       "      <th>source</th>\n",
       "      <th>source_attribute_id</th>\n",
       "      <th>target_attribute_name</th>\n",
       "    </tr>\n",
       "  </thead>\n",
       "  <tbody>\n",
       "    <tr>\n",
       "      <th>0</th>\n",
       "      <td>ca.pcpartpicker.com</td>\n",
       "      <td>hdmi</td>\n",
       "      <td>hdmi_port_quantity</td>\n",
       "    </tr>\n",
       "    <tr>\n",
       "      <th>1</th>\n",
       "      <td>www.best-deal-items.com</td>\n",
       "      <td>horizontal scan range</td>\n",
       "      <td>horizontal_refresh_rate_range</td>\n",
       "    </tr>\n",
       "    <tr>\n",
       "      <th>2</th>\n",
       "      <td>www.best-deal-items.com</td>\n",
       "      <td>horizontal scan range</td>\n",
       "      <td>horizontal_refresh_rate_max</td>\n",
       "    </tr>\n",
       "    <tr>\n",
       "      <th>3</th>\n",
       "      <td>www.best-deal-items.com</td>\n",
       "      <td>color support</td>\n",
       "      <td>number_of_colors</td>\n",
       "    </tr>\n",
       "    <tr>\n",
       "      <th>4</th>\n",
       "      <td>www.best-deal-items.com</td>\n",
       "      <td>hd type</td>\n",
       "      <td>hd_type</td>\n",
       "    </tr>\n",
       "    <tr>\n",
       "      <th>...</th>\n",
       "      <td>...</td>\n",
       "      <td>...</td>\n",
       "      <td>...</td>\n",
       "    </tr>\n",
       "    <tr>\n",
       "      <th>130</th>\n",
       "      <td>www.xpcpro.com</td>\n",
       "      <td>on screen display osd languages</td>\n",
       "      <td>supported_languages</td>\n",
       "    </tr>\n",
       "    <tr>\n",
       "      <th>131</th>\n",
       "      <td>www.xpcpro.com</td>\n",
       "      <td>digital vertical frequency</td>\n",
       "      <td>digital_vertical_refresh_rate_range</td>\n",
       "    </tr>\n",
       "    <tr>\n",
       "      <th>132</th>\n",
       "      <td>www.xpcpro.com</td>\n",
       "      <td>digital vertical frequency</td>\n",
       "      <td>digital_vertical_refresh_rate_max</td>\n",
       "    </tr>\n",
       "    <tr>\n",
       "      <th>133</th>\n",
       "      <td>www.xpcpro.com</td>\n",
       "      <td>ethernet lan connection</td>\n",
       "      <td>has_ethernet_port</td>\n",
       "    </tr>\n",
       "    <tr>\n",
       "      <th>134</th>\n",
       "      <td>www.xpcpro.com</td>\n",
       "      <td>hdmi ports quantity</td>\n",
       "      <td>hdmi_port_quantity</td>\n",
       "    </tr>\n",
       "  </tbody>\n",
       "</table>\n",
       "<p>135 rows × 3 columns</p>\n",
       "</div>"
      ],
      "text/plain": [
       "                      source              source_attribute_id  \\\n",
       "0        ca.pcpartpicker.com                             hdmi   \n",
       "1    www.best-deal-items.com            horizontal scan range   \n",
       "2    www.best-deal-items.com            horizontal scan range   \n",
       "3    www.best-deal-items.com                    color support   \n",
       "4    www.best-deal-items.com                          hd type   \n",
       "..                       ...                              ...   \n",
       "130           www.xpcpro.com  on screen display osd languages   \n",
       "131           www.xpcpro.com       digital vertical frequency   \n",
       "132           www.xpcpro.com       digital vertical frequency   \n",
       "133           www.xpcpro.com          ethernet lan connection   \n",
       "134           www.xpcpro.com              hdmi ports quantity   \n",
       "\n",
       "                   target_attribute_name  \n",
       "0                     hdmi_port_quantity  \n",
       "1          horizontal_refresh_rate_range  \n",
       "2            horizontal_refresh_rate_max  \n",
       "3                       number_of_colors  \n",
       "4                                hd_type  \n",
       "..                                   ...  \n",
       "130                  supported_languages  \n",
       "131  digital_vertical_refresh_rate_range  \n",
       "132    digital_vertical_refresh_rate_max  \n",
       "133                    has_ethernet_port  \n",
       "134                   hdmi_port_quantity  \n",
       "\n",
       "[135 rows x 3 columns]"
      ]
     },
     "execution_count": 9,
     "metadata": {},
     "output_type": "execute_result"
    }
   ],
   "source": [
    "schema_matching_labelled_df"
   ]
  },
  {
   "cell_type": "code",
   "execution_count": 20,
   "metadata": {},
   "outputs": [],
   "source": [
    "def get_schema_matching_labelled_dict(schema_matching_labelled_df):\n",
    "    schema_matching_labelled_dict = defaultdict(lambda: defaultdict(list))\n",
    "    for _, row in schema_matching_labelled_df.iterrows():\n",
    "        table = row[\"source\"] \n",
    "        source_attribute = row[\"source_attribute_id\"]   \n",
    "        target_attr = row['target_attribute_name']\n",
    "\n",
    "        schema_matching_labelled_dict[table][source_attribute].append(target_attr)\n",
    "    \n",
    "    return schema_matching_labelled_dict\n"
   ]
  },
  {
   "cell_type": "code",
   "execution_count": 26,
   "metadata": {},
   "outputs": [],
   "source": [
    "def get_true_positive(schema_matching_labelled_dict, final_schema_matching):\n",
    "    true_positive = 0\n",
    "    for table, attributes in schema_matching_labelled_dict.items():\n",
    "        for source_attribute, target_attributes_list in attributes.items():\n",
    "            \n",
    "            if source_attribute in final_schema_matching[table]:\n",
    "                result = final_schema_matching[table][source_attribute]\n",
    "\n",
    "                if result in target_attributes_list:\n",
    "                    true_positive += 1\n",
    "\n",
    "    return true_positive"
   ]
  },
  {
   "cell_type": "code",
   "execution_count": 27,
   "metadata": {},
   "outputs": [],
   "source": [
    "def get_false_negative(schema_matching_labelled_dict, final_schema_matching):\n",
    "    false_negative = 0\n",
    "    for table, attributes in schema_matching_labelled_dict.items():\n",
    "        for source_attribute, target_attributes_list in attributes.items():\n",
    "\n",
    "            if source_attribute in final_schema_matching[table]:\n",
    "                result = final_schema_matching[table][source_attribute]\n",
    "\n",
    "                if result == \"no matching\":\n",
    "                    false_negative += 1\n",
    "\n",
    "    return false_negative"
   ]
  },
  {
   "cell_type": "code",
   "execution_count": 28,
   "metadata": {},
   "outputs": [],
   "source": [
    "def get_false_positive(schema_matching_labelled_dict, final_schema_matching):\n",
    "    false_positive = 0\n",
    "    for table, attributes in schema_matching_labelled_dict.items():\n",
    "        for source_attribute, target_attributes_list in attributes.items():\n",
    "            \n",
    "            if source_attribute in final_schema_matching[table]:\n",
    "                result = final_schema_matching[table][source_attribute]\n",
    "\n",
    "                if result not in target_attributes_list and result != \"no matching\":\n",
    "                    false_positive += 1\n",
    "\n",
    "    return false_positive"
   ]
  },
  {
   "cell_type": "code",
   "execution_count": 29,
   "metadata": {},
   "outputs": [],
   "source": [
    "schema_matching_labelled_dict = get_schema_matching_labelled_dict(schema_matching_labelled_df)"
   ]
  },
  {
   "cell_type": "code",
   "execution_count": 30,
   "metadata": {},
   "outputs": [],
   "source": [
    "with open(\"final_schema_matching.json\", 'r', encoding='utf-8') as file:\n",
    "    final_schema_matching = json.load(file)\n",
    "true_positive = get_true_positive(schema_matching_labelled_dict, final_schema_matching)\n",
    "false_positive = get_false_positive(schema_matching_labelled_dict, final_schema_matching)\n",
    "false_negative = get_false_negative(schema_matching_labelled_dict, final_schema_matching)"
   ]
  },
  {
   "cell_type": "code",
   "execution_count": 31,
   "metadata": {},
   "outputs": [
    {
     "name": "stdout",
     "output_type": "stream",
     "text": [
      "True Postive: 53\n",
      "False Postive: 22\n",
      "False Negative: 13\n"
     ]
    }
   ],
   "source": [
    "print(f\"True Postive: {true_positive}\")\n",
    "print(f\"False Postive: {false_positive}\")\n",
    "print(f\"False Negative: {false_negative}\")"
   ]
  },
  {
   "cell_type": "code",
   "execution_count": 32,
   "metadata": {},
   "outputs": [],
   "source": [
    "def get_precision(true_positive, false_positive):\n",
    "    return true_positive/(true_positive + false_positive)"
   ]
  },
  {
   "cell_type": "code",
   "execution_count": 33,
   "metadata": {},
   "outputs": [],
   "source": [
    "def get_recall(true_positive, false_negative):\n",
    "    return true_positive/(true_positive + false_negative)"
   ]
  },
  {
   "cell_type": "code",
   "execution_count": 34,
   "metadata": {},
   "outputs": [],
   "source": [
    "def get_f1_score(precision, recall):\n",
    "    return 2 * (precision * recall)/(precision + recall)"
   ]
  },
  {
   "cell_type": "code",
   "execution_count": 35,
   "metadata": {},
   "outputs": [
    {
     "name": "stdout",
     "output_type": "stream",
     "text": [
      "Precision: \t0.7066666666666667\n",
      "Recall: \t0.803030303030303\n",
      "F1 Score: \t0.75177304964539\n"
     ]
    }
   ],
   "source": [
    "precision = get_precision(true_positive, false_positive)\n",
    "recall = get_recall(true_positive, false_negative)\n",
    "f1_score = get_f1_score(precision, recall)\n",
    "print(f\"Precision: \\t{precision}\")\n",
    "print(f\"Recall: \\t{recall}\")\n",
    "print(f\"F1 Score: \\t{f1_score}\")"
   ]
  },
  {
   "cell_type": "code",
   "execution_count": 36,
   "metadata": {},
   "outputs": [],
   "source": [
    "''' This function generates a metrics chart'''\n",
    "def generate_chart(precision, recall, f1_score):\n",
    "    metrics = ['Precision', 'Recall', 'F1 Score']\n",
    "    values = [precision, recall, f1_score]\n",
    "\n",
    "    # Bar graph\n",
    "    plt.figure(figsize=(6, 6))\n",
    "    plt.bar(metrics, values, color=['blue', 'green', 'red'])\n",
    "\n",
    "    # Adding values above the bars\n",
    "    for i, v in enumerate(values):\n",
    "        plt.text(i, v + 0.01, f\"{v:.2f}\", ha='center', fontweight='bold')\n",
    "\n",
    "    # Adding Title and Labels to Axes\n",
    "    plt.title('Evaluation metrics')\n",
    "    plt.xlabel('Metrics')\n",
    "    plt.ylabel('Value')\n",
    "\n",
    "    plt.ylim(0, 1)\n",
    "    plt.show()"
   ]
  },
  {
   "cell_type": "code",
   "execution_count": 37,
   "metadata": {},
   "outputs": [
    {
     "data": {
      "image/png": "[encoded data removed]",
      "text/plain": [
       "<Figure size 600x600 with 1 Axes>"
      ]
     },
     "metadata": {},
     "output_type": "display_data"
    }
   ],
   "source": [
    "generate_chart(precision, recall, f1_score)"
   ]
  }
 ],
 "metadata": {
  "kernelspec": {
   "display_name": "bigDataIntegration",
   "language": "python",
   "name": "python3"
  },
  "language_info": {
   "codemirror_mode": {
    "name": "ipython",
    "version": 3
   },
   "file_extension": ".py",
   "mimetype": "text/x-python",
   "name": "python",
   "nbconvert_exporter": "python",
   "pygments_lexer": "ipython3",
   "version": "3.12.3"
  }
 },
 "nbformat": 4,
 "nbformat_minor": 2
}
